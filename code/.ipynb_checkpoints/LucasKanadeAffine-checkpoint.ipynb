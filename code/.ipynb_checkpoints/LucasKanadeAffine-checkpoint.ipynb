{
 "cells": [
  {
   "cell_type": "code",
   "execution_count": 1,
   "metadata": {},
   "outputs": [],
   "source": [
    "import numpy as np\n",
    "import matplotlib.pyplot as plt\n",
    "import matplotlib.patches as patches\n",
    "\n",
    "import os\n",
    "os.makedirs(\"../out\", exist_ok=True)\n",
    "\n",
    "from tqdm import tqdm"
   ]
  },
  {
   "cell_type": "markdown",
   "metadata": {},
   "source": [
    "# Q2: Affine Motion Subtraction\n",
    "\n",
    "Make sure to comment your code and use proper names for your variables."
   ]
  },
  {
   "cell_type": "markdown",
   "metadata": {},
   "source": [
    "## Q2.1: Lucas-Kanade Tracking with Affine Motion"
   ]
  },
  {
   "cell_type": "code",
   "execution_count": 102,
   "metadata": {},
   "outputs": [],
   "source": [
    "# We recommend using this function, but you can explore other methods as well (e.g., ndimage.shift).\n",
    "from scipy.interpolate import RectBivariateSpline as RBS\n",
    "\n",
    "# The function below could be useful as well :) \n",
    "from numpy.linalg import lstsq\n",
    "\n",
    "def LucasKanadeAffine(It, It1, threshold, num_iters):\n",
    "    \"\"\"\n",
    "    :param[np.array(H, W)] It   : Image frame at time-step t\n",
    "    :param[np.array(H, W)] It1  : Image frame at time-step t+1\n",
    "    :param[float] threshold     : If the length of dp < threshold, terminate the optimization\n",
    "    :param[int] num_iters       : Number of iterations for running the optimization\n",
    "\n",
    "    :return[np.array(2, 3)] M   : Affine warp matrix\n",
    "    \"\"\"\n",
    "    # Initial M\n",
    "    M = np.eye(3)\n",
    "    #M = np.array([[1.0, 0.0, 0.0], [0.0, 1.0, 0.0]])\n",
    "    p = np.zeros(6)\n",
    "    dp_thresh = 1\n",
    "    i = 0\n",
    "    \n",
    "    It_spline = RBS(np.arange(It.shape[0]), np.arange(It.shape[1]), It)\n",
    "    It1_spline = RBS(np.arange(It1.shape[0]), np.arange(It1.shape[1]), It1)\n",
    "    \n",
    "    # ----------------------------------------------------------------------------------------------\n",
    "    # TODO: Add your LK implementation here: \n",
    "    while (i <= num_iters) and (dp_thresh >= threshold):\n",
    "        x_ = np.linspace(0, It.shape[0], It.shape[0])\n",
    "        y_ = np.linspace(0, It.shape[1], It.shape[1])\n",
    "        x_mesh, y_mesh = np.meshgrid(x_, y_)\n",
    "        \n",
    "        x_warped = (1 + p[0]) * x_mesh + p[1] * y_mesh + p[2]\n",
    "        y_warped = p[3] * x_mesh + (1 + p[4]) * y_mesh + p[5]\n",
    "        \n",
    "        #Determining indices that meet the conditions         \n",
    "        idx_valid1 = (x_warped >= 0)\n",
    "        idx_valid2 = (x_warped <= It.shape[1])\n",
    "        idx_valid_x = (idx_valid1 == idx_valid2)\n",
    "        \n",
    "        idx_valid3 = (y_warped >= 0)\n",
    "        idx_valid4 = (y_warped <= It.shape[0])\n",
    "        idx_valid_y = (idx_valid3 == idx_valid4)\n",
    "        \n",
    "        idx_valid = (idx_valid_x == idx_valid_y)\n",
    "        \n",
    "        x_warped_valid = x_warped[idx_valid].flatten()\n",
    "        y_warped_valid = y_warped[idx_valid].flatten()\n",
    "        \n",
    "        It1_inter = It1_spline.ev(y_warped_valid, x_warped_valid).flatten()\n",
    "        \n",
    "        It1_grad_x = It1_spline.ev(y_warped_valid, x_warped_valid, dx = 1, dy = 0).flatten()\n",
    "        It1_grad_y = It1_spline.ev(y_warped_valid, x_warped_valid, dx = 0, dy = 1).flatten()\n",
    "        It1_grad = np.vstack((It1_grad_y, It1_grad_x)).T\n",
    "        print(It1_grad.shape)\n",
    "        \n",
    "        A = np.zeros((It1_grad_x.shape[0], 6))\n",
    "        #From paper: dW/dp = [x 0 y 0 1 0;\n",
    "        #                    0 x 0 y 0 1]\n",
    "        \n",
    "        dW = np.array([[x_mesh.flatten(), 0, y_mesh.flatten(), 0, 1, 0 ], [0, x_mesh.flatten(), 0, y_mesh.flatten(), 0, 1]])\n",
    "        \n",
    "        A = It1_grad @ dW\n",
    "        \n",
    "        b = It[idx_valid].flatten() - It1_inter\n",
    "        \n",
    "        delta_p, dp_thresh,_, _ = lstsq(A, b, rcond = None)\n",
    "        \n",
    "        p += delta_p\n",
    "        i += 1\n",
    "        \n",
    "    M = np.array([[1 + p[0], p[1], p[2]], [p[3], 1 + p[4], p[5]], [0, 0, 1]])\n",
    "    # ----------------------------------------------------------------------------------------------\n",
    "    return M"
   ]
  },
  {
   "cell_type": "markdown",
   "metadata": {},
   "source": [
    "# Q2.2: Dominant Motion Subtraction"
   ]
  },
  {
   "cell_type": "code",
   "execution_count": 103,
   "metadata": {},
   "outputs": [],
   "source": [
    "# These functions could be useful for your implementation. \n",
    "from scipy.ndimage import binary_erosion, binary_dilation, affine_transform\n",
    "import cv2\n",
    "\n",
    "def SubtractDominantMotion(It, It1, num_iters, threshold, tolerance):\n",
    "    \"\"\"\n",
    "    :param[np.array(H, W)] It   : Image frame at time-step t\n",
    "    :param[np.array(H, W)] It1  : Image frame at time-step t+1\n",
    "    :param[float] threshold     : For LucasKanadeAffine --> If the length of dp < threshold, \n",
    "                                  terminate the optimization\n",
    "    :param[int] num_iters       : For LucasKanadeAffine --> Number of iterations for running the \n",
    "                                  optimization\n",
    "    :param[float] tolerance     : Binary threshold of intensity difference when computing the mask.\n",
    "   \n",
    "    :return[np.array(H, W)] mask: Binary mask indicating moving pixels. \n",
    "    \"\"\"\n",
    "    mask = np.ones(It1.shape, dtype=bool)\n",
    "\n",
    "    # ----------------------------------------------------------------------------------------------\n",
    "    # TODO: Add your code here:\n",
    "    M = LucasKanadeAffine(It, It1, threshold, num_iters)\n",
    "    It_warp = cv2.warpAffine(It, M)\n",
    "    \n",
    "    error = np.absolute(It1 - It_warp)\n",
    "    mask = error > tolerance #Locations where movement occurs\n",
    "    mask = binary_erosion(mask)\n",
    "    mask = binary_dilation(mask)\n",
    "    \n",
    "    # ----------------------------------------------------------------------------------------------\n",
    "    return mask "
   ]
  },
  {
   "cell_type": "markdown",
   "metadata": {},
   "source": [
    "## Q2.3: Track Sequence"
   ]
  },
  {
   "cell_type": "code",
   "execution_count": 104,
   "metadata": {},
   "outputs": [],
   "source": [
    "def TrackSequenceAffineMotion(seq, num_iters, threshold, tolerance):\n",
    "    \"\"\"\n",
    "    :param[np.array(H, W, N)] seq : sequence of frames\n",
    "    :param[int] num_iters         : Number of iterations for running the optimization\n",
    "    :param[float] threshold       : If the length of dp < threshold, terminate the optimization\n",
    "    :param[float] tolerance       : Binary threshold of intensity difference when computing the mask.\n",
    "\n",
    "    :return[np.array(H, W)] mask: Binary mask indicating moving pixels.\n",
    "    \"\"\"\n",
    "    H, W, N = seq.shape\n",
    "    print(H, W)\n",
    "\n",
    "    masks = np.empty((H, W, N))\n",
    "    It = seq[:,:,0]\n",
    "\n",
    "    # ----------------------------------------------------------------------------------------------\n",
    "    # TODO: Add your code here:\n",
    "    for i in tqdm(range(1, seq.shape[2])):\n",
    "        It1 = seq[:, :, i]\n",
    "        \n",
    "        mask = SubtractDominantMotion(It, It1, num_iters, threshold, tolerance)\n",
    "        masks[:, :, i] = mask\n",
    "\n",
    "    # ----------------------------------------------------------------------------------------------\n",
    "    \n",
    "    masks = np.stack(masks, axis=2)\n",
    "    return masks"
   ]
  },
  {
   "cell_type": "markdown",
   "metadata": {},
   "source": [
    "### Q2.3: Track Ant Sequence\n",
    "\n",
    "Feel free to play with these snippets of code; run ablations, visualize a gif with the whole sequence, etc.\n",
    "\n",
    "Just make sure the bounding boxes for the car are clearly visible, and report those of the frames we requested. "
   ]
  },
  {
   "cell_type": "code",
   "execution_count": 105,
   "metadata": {},
   "outputs": [
    {
     "name": "stdout",
     "output_type": "stream",
     "text": [
      "256 256\n"
     ]
    },
    {
     "name": "stderr",
     "output_type": "stream",
     "text": [
      "\r",
      "  0%|          | 0/124 [00:00<?, ?it/s]"
     ]
    },
    {
     "name": "stdout",
     "output_type": "stream",
     "text": [
      "Valid index shape: (256, 256)\n",
      "Image template: [0.66470588 0.66666667 0.67941176 ... 0.67156863 0.68431373 0.68627451]\n"
     ]
    },
    {
     "name": "stderr",
     "output_type": "stream",
     "text": [
      "C:\\Users\\prana\\AppData\\Local\\Temp\\ipykernel_2952\\4253753109.py:61: VisibleDeprecationWarning: Creating an ndarray from ragged nested sequences (which is a list-or-tuple of lists-or-tuples-or ndarrays with different lengths or shapes) is deprecated. If you meant to do this, you must specify 'dtype=object' when creating the ndarray.\n",
      "  dW = np.array([[x_mesh.flatten(), 0, y_mesh.flatten(), 0, 1, 0 ], [0, x_mesh.flatten(), 0, y_mesh.flatten(), 0, 1]])\n",
      "  0%|          | 0/124 [02:12<?, ?it/s]\n",
      "Exception ignored in sys.unraisablehook: <built-in function unraisablehook>\n",
      "Traceback (most recent call last):\n",
      "  File \"C:\\Users\\prana\\anaconda3\\lib\\site-packages\\ipykernel\\iostream.py\", line 512, in write\n",
      "    if not isinstance(string, str):\n",
      "KeyboardInterrupt\n"
     ]
    },
    {
     "ename": "MemoryError",
     "evalue": "Unable to allocate 512. KiB for an array with shape (65536,) and data type float64",
     "output_type": "error",
     "traceback": [
      "\u001b[1;31m---------------------------------------------------------------------------\u001b[0m",
      "\u001b[1;31mMemoryError\u001b[0m                               Traceback (most recent call last)",
      "Input \u001b[1;32mIn [105]\u001b[0m, in \u001b[0;36m<cell line: 8>\u001b[1;34m()\u001b[0m\n\u001b[0;32m      5\u001b[0m threshold \u001b[38;5;241m=\u001b[39m \u001b[38;5;241m1e-2\u001b[39m\n\u001b[0;32m      6\u001b[0m tolerance \u001b[38;5;241m=\u001b[39m \u001b[38;5;241m0.2\u001b[39m\n\u001b[1;32m----> 8\u001b[0m masks \u001b[38;5;241m=\u001b[39m \u001b[43mTrackSequenceAffineMotion\u001b[49m\u001b[43m(\u001b[49m\u001b[43mseq\u001b[49m\u001b[43m,\u001b[49m\u001b[43m \u001b[49m\u001b[43mnum_iters\u001b[49m\u001b[43m,\u001b[49m\u001b[43m \u001b[49m\u001b[43mthreshold\u001b[49m\u001b[43m,\u001b[49m\u001b[43m \u001b[49m\u001b[43mtolerance\u001b[49m\u001b[43m)\u001b[49m\n\u001b[0;32m      9\u001b[0m np\u001b[38;5;241m.\u001b[39msave(\u001b[38;5;124mf\u001b[39m\u001b[38;5;124m'\u001b[39m\u001b[38;5;124m../out/antseqmasks.npy\u001b[39m\u001b[38;5;124m'\u001b[39m, masks)\n",
      "Input \u001b[1;32mIn [104]\u001b[0m, in \u001b[0;36mTrackSequenceAffineMotion\u001b[1;34m(seq, num_iters, threshold, tolerance)\u001b[0m\n\u001b[0;32m     18\u001b[0m \u001b[38;5;28;01mfor\u001b[39;00m i \u001b[38;5;129;01min\u001b[39;00m tqdm(\u001b[38;5;28mrange\u001b[39m(\u001b[38;5;241m1\u001b[39m, seq\u001b[38;5;241m.\u001b[39mshape[\u001b[38;5;241m2\u001b[39m])):\n\u001b[0;32m     19\u001b[0m     It1 \u001b[38;5;241m=\u001b[39m seq[:, :, i]\n\u001b[1;32m---> 21\u001b[0m     mask \u001b[38;5;241m=\u001b[39m \u001b[43mSubtractDominantMotion\u001b[49m\u001b[43m(\u001b[49m\u001b[43mIt\u001b[49m\u001b[43m,\u001b[49m\u001b[43m \u001b[49m\u001b[43mIt1\u001b[49m\u001b[43m,\u001b[49m\u001b[43m \u001b[49m\u001b[43mnum_iters\u001b[49m\u001b[43m,\u001b[49m\u001b[43m \u001b[49m\u001b[43mthreshold\u001b[49m\u001b[43m,\u001b[49m\u001b[43m \u001b[49m\u001b[43mtolerance\u001b[49m\u001b[43m)\u001b[49m\n\u001b[0;32m     22\u001b[0m     masks[:, :, i] \u001b[38;5;241m=\u001b[39m mask\n\u001b[0;32m     24\u001b[0m \u001b[38;5;66;03m# ----------------------------------------------------------------------------------------------\u001b[39;00m\n",
      "Input \u001b[1;32mIn [103]\u001b[0m, in \u001b[0;36mSubtractDominantMotion\u001b[1;34m(It, It1, num_iters, threshold, tolerance)\u001b[0m\n\u001b[0;32m     17\u001b[0m mask \u001b[38;5;241m=\u001b[39m np\u001b[38;5;241m.\u001b[39mones(It1\u001b[38;5;241m.\u001b[39mshape, dtype\u001b[38;5;241m=\u001b[39m\u001b[38;5;28mbool\u001b[39m)\n\u001b[0;32m     19\u001b[0m \u001b[38;5;66;03m# ----------------------------------------------------------------------------------------------\u001b[39;00m\n\u001b[0;32m     20\u001b[0m \u001b[38;5;66;03m# TODO: Add your code here:\u001b[39;00m\n\u001b[1;32m---> 21\u001b[0m M \u001b[38;5;241m=\u001b[39m \u001b[43mLucasKanadeAffine\u001b[49m\u001b[43m(\u001b[49m\u001b[43mIt\u001b[49m\u001b[43m,\u001b[49m\u001b[43m \u001b[49m\u001b[43mIt1\u001b[49m\u001b[43m,\u001b[49m\u001b[43m \u001b[49m\u001b[43mthreshold\u001b[49m\u001b[43m,\u001b[49m\u001b[43m \u001b[49m\u001b[43mnum_iters\u001b[49m\u001b[43m)\u001b[49m\n\u001b[0;32m     22\u001b[0m It_warp \u001b[38;5;241m=\u001b[39m cv2\u001b[38;5;241m.\u001b[39mwarpAffine(It, M)\n\u001b[0;32m     24\u001b[0m error \u001b[38;5;241m=\u001b[39m np\u001b[38;5;241m.\u001b[39mabsolute(It1 \u001b[38;5;241m-\u001b[39m It_warp)\n",
      "Input \u001b[1;32mIn [102]\u001b[0m, in \u001b[0;36mLucasKanadeAffine\u001b[1;34m(It, It1, threshold, num_iters)\u001b[0m\n\u001b[0;32m     58\u001b[0m \u001b[38;5;66;03m#From paper: dW/dp = [x 0 y 0 1 0;\u001b[39;00m\n\u001b[0;32m     59\u001b[0m \u001b[38;5;66;03m#                    0 x 0 y 0 1]\u001b[39;00m\n\u001b[0;32m     61\u001b[0m dW \u001b[38;5;241m=\u001b[39m np\u001b[38;5;241m.\u001b[39marray([[x_mesh\u001b[38;5;241m.\u001b[39mflatten(), \u001b[38;5;241m0\u001b[39m, y_mesh\u001b[38;5;241m.\u001b[39mflatten(), \u001b[38;5;241m0\u001b[39m, \u001b[38;5;241m1\u001b[39m, \u001b[38;5;241m0\u001b[39m ], [\u001b[38;5;241m0\u001b[39m, x_mesh\u001b[38;5;241m.\u001b[39mflatten(), \u001b[38;5;241m0\u001b[39m, y_mesh\u001b[38;5;241m.\u001b[39mflatten(), \u001b[38;5;241m0\u001b[39m, \u001b[38;5;241m1\u001b[39m]])\n\u001b[1;32m---> 63\u001b[0m A \u001b[38;5;241m=\u001b[39m \u001b[43mIt1_grad\u001b[49m\u001b[43m \u001b[49m\u001b[38;5;241;43m@\u001b[39;49m\u001b[43m \u001b[49m\u001b[43mdW\u001b[49m\n\u001b[0;32m     65\u001b[0m b \u001b[38;5;241m=\u001b[39m It[idx_valid]\u001b[38;5;241m.\u001b[39mflatten() \u001b[38;5;241m-\u001b[39m It1_inter\n\u001b[0;32m     67\u001b[0m delta_p, dp_thresh,_, _ \u001b[38;5;241m=\u001b[39m lstsq(A, b, rcond \u001b[38;5;241m=\u001b[39m \u001b[38;5;28;01mNone\u001b[39;00m)\n",
      "\u001b[1;31mMemoryError\u001b[0m: Unable to allocate 512. KiB for an array with shape (65536,) and data type float64"
     ]
    }
   ],
   "source": [
    "seq = np.load(\"../data/antseq.npy\")\n",
    "\n",
    "# NOTE: feel free to play with these parameters\n",
    "num_iters = 1e4\n",
    "threshold = 1e-2\n",
    "tolerance = 0.2\n",
    "\n",
    "masks = TrackSequenceAffineMotion(seq, num_iters, threshold, tolerance)\n",
    "np.save(f'../out/antseqmasks.npy', masks)"
   ]
  },
  {
   "cell_type": "code",
   "execution_count": null,
   "metadata": {},
   "outputs": [],
   "source": [
    "# TODO: visualize\n",
    "frames_to_save = []\n",
    "\n",
    "for idx in frames_to_save:\n",
    "    pass\n",
    "    # frame = \n",
    "    # mask = \n",
    "   \n",
    "    # plt.figure()\n",
    "    # plt.imshow(frame, cmap=\"gray\", alpha=0.5)\n",
    "    # plt.imshow(np.ma.masked_where(np.invert(mask), mask))\n",
    "    # plt.axis('off')\n",
    "    # plt.savefig(f\"../out/sol_2.3_antseq_{idx+1}.png\")"
   ]
  },
  {
   "cell_type": "markdown",
   "metadata": {},
   "source": [
    "### Q2.3: Test Aerial Sequence\n",
    "\n",
    "Feel free to play with these snippets of code; run ablations, visualize a gif with the whole sequence, etc.\n",
    "\n",
    "Just make sure the bounding boxes for the car are clearly visible, and report those of the frames we requested. "
   ]
  },
  {
   "cell_type": "code",
   "execution_count": 13,
   "metadata": {},
   "outputs": [],
   "source": [
    "seq = np.load(\"../data/aerialseq.npy\")\n",
    "\n",
    "# NOTE: feel free to play with these parameters\n",
    "num_iters = 1000\n",
    "threshold = 0.01\n",
    "tolerance = 0.2\n",
    "\n",
    "masks = TrackSequenceAffineMotion(seq, num_iters, threshold, tolerance)\n",
    "np.save(f'../out/aerialseqmasks.npy', masks)"
   ]
  },
  {
   "cell_type": "code",
   "execution_count": 15,
   "metadata": {},
   "outputs": [],
   "source": [
    "# TODO: visualize\n",
    "frames_to_save = []\n",
    "\n",
    "for idx in frames_to_save:\n",
    "    pass\n",
    "    # frame = \n",
    "    # mask = \n",
    "   \n",
    "    # plt.figure()\n",
    "    # plt.imshow(frame, cmap=\"gray\", alpha=0.5)\n",
    "    # plt.imshow(np.ma.masked_where(np.invert(mask), mask))\n",
    "    # plt.axis('off')\n",
    "    # plt.savefig(f\"../out/sol_2.3_aerialseq_{idx+1}.png\")"
   ]
  },
  {
   "cell_type": "code",
   "execution_count": 11,
   "metadata": {},
   "outputs": [
    {
     "name": "stdout",
     "output_type": "stream",
     "text": [
      "[0 1 2 3]\n",
      "[False  True  True  True]\n",
      "[1 2 3]\n",
      "[[0 2]\n",
      " [1 3]]\n"
     ]
    }
   ],
   "source": [
    "#Logic test\n",
    "x = np.arange(4)\n",
    "print(x)\n",
    "\n",
    "valid = x > 0\n",
    "print(valid)\n",
    "print(x[valid])\n",
    "\n",
    "x_stack = np.stack(np.reshape(x, (2,2)), axis = 1)\n",
    "\n",
    "print(x_stack)"
   ]
  },
  {
   "cell_type": "code",
   "execution_count": null,
   "metadata": {},
   "outputs": [],
   "source": []
  }
 ],
 "metadata": {
  "kernelspec": {
   "display_name": "Python 3 (ipykernel)",
   "language": "python",
   "name": "python3"
  },
  "language_info": {
   "codemirror_mode": {
    "name": "ipython",
    "version": 3
   },
   "file_extension": ".py",
   "mimetype": "text/x-python",
   "name": "python",
   "nbconvert_exporter": "python",
   "pygments_lexer": "ipython3",
   "version": "3.9.12"
  },
  "vscode": {
   "interpreter": {
    "hash": "8efbe5fc9e91c36adebc05347b1801574da82ef48176c042bd1362b18b593ca9"
   }
  }
 },
 "nbformat": 4,
 "nbformat_minor": 2
}
